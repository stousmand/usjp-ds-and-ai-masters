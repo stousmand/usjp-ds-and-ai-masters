{
 "cells": [
  {
   "cell_type": "code",
   "execution_count": 17,
   "id": "7391245f",
   "metadata": {},
   "outputs": [
    {
     "name": "stdout",
     "output_type": "stream",
     "text": [
      "3.8.12 (default, Oct 12 2021, 03:01:40) [MSC v.1916 64 bit (AMD64)] \n",
      "\n",
      "Hello Python\n",
      "Hello\n",
      "Python\n"
     ]
    }
   ],
   "source": [
    "import sys\n",
    "print(sys.version,'\\n') # Check current python version\n",
    "\n",
    "#Printing Something\n",
    "print(\"Hello Python\")\n",
    "print(\"Hello\\nPython\") #\\n Newline character you know this right"
   ]
  },
  {
   "cell_type": "code",
   "execution_count": 25,
   "id": "a3822551",
   "metadata": {},
   "outputs": [
    {
     "name": "stdout",
     "output_type": "stream",
     "text": [
      "2.0\n",
      "23\n",
      "12\n",
      "123\n",
      "-34.567\n",
      "<class 'bool'> <class 'bool'>\n",
      "sys.int_info(bits_per_digit=30, sizeof_digit=4) \n",
      "\n",
      "sys.float_info(max=1.7976931348623157e+308, max_exp=1024, max_10_exp=308, min=2.2250738585072014e-308, min_exp=-1021, min_10_exp=-307, dig=15, mant_dig=53, epsilon=2.220446049250313e-16, radix=2, rounds=1) \n",
      "\n"
     ]
    }
   ],
   "source": [
    "#Types and type casting\n",
    "print(float(2)) # Converts int to float\n",
    "print(int(23.567)) # Casts float to int, loses information here\n",
    "print(int('12'))\n",
    "# print(int('A')) # Gives an error\n",
    "print(str(123)) # Convert int to string\n",
    "print(str(-34.567)) # Convert float to string\n",
    "\n",
    "type(str(-34.567)) # The type command to check the data type\n",
    "\n",
    "boolValue1 = True # First letter is uppercase\n",
    "boolValue2 = False\n",
    "print(type(boolValue1),type(boolValue2))\n",
    "\n",
    "print(sys.int_info,'\\n') #We can use properties of sys to view available type data\n",
    "print(sys.float_info,'\\n')"
   ]
  },
  {
   "cell_type": "code",
   "execution_count": 32,
   "id": "90298400",
   "metadata": {},
   "outputs": [
    {
     "name": "stdout",
     "output_type": "stream",
     "text": [
      "2.4347826086956523 <class 'float'>\n",
      "2 <class 'int'>\n",
      "-58.10040000000001 <class 'float'>\n",
      "-8.300057142857144 <class 'float'>\n"
     ]
    }
   ],
   "source": [
    "a = 56/23\n",
    "print(a, type(a))\n",
    "b = 56//23 # The integer part is only considered, its called \"Integer Division Operator\"\n",
    "print(b, type(b))\n",
    "\n",
    "x = 43 + 20 - 1.34556 *90\n",
    "print(x, type(x))\n",
    "\n",
    "y = x / 7\n",
    "print(y, type(y))"
   ]
  },
  {
   "cell_type": "code",
   "execution_count": 13,
   "id": "3609cfe4",
   "metadata": {},
   "outputs": [
    {
     "name": "stdout",
     "output_type": "stream",
     "text": [
      "S r d\n",
      "d m S\n",
      "15\n"
     ]
    }
   ],
   "source": [
    "name = \"Shirhan Ousmand\"\n",
    "\n",
    "print(name[0],name[3],name[14]) # Character position in a string could be accessed like in a zero indexed array\n",
    "print(name[-1],name[-4],name[-15]) # Negative indexing characters could be accessed from back to forward\n",
    "\n",
    "print(len(name)) # Length of a string"
   ]
  },
  {
   "cell_type": "code",
   "execution_count": 18,
   "id": "3a64a72e",
   "metadata": {},
   "outputs": [
    {
     "name": "stdout",
     "output_type": "stream",
     "text": [
      "Ric\n",
      "McCaw\n",
      "hie Mc\n"
     ]
    }
   ],
   "source": [
    "# Slicing, its like getting a range of elements from an array like structure\n",
    "\n",
    "name = \"Richie McCaw\"\n",
    "print(name[0:3]) # First number is the starting index, the number after colon is the ending character (index+1)\n",
    "print(name[7:12])\n",
    "print(name[3:9])"
   ]
  },
  {
   "cell_type": "code",
   "execution_count": 25,
   "id": "c3ae55fd",
   "metadata": {},
   "outputs": [
    {
     "name": "stdout",
     "output_type": "stream",
     "text": [
      "KmrSnakr\n",
      "KaSgka\n",
      " agkaa\n",
      " nkr\n"
     ]
    }
   ],
   "source": [
    "# Stride, its like skipping certain elements of an array like structure\n",
    "name = \"Kumar Sangakkara\"\n",
    "\n",
    "print(name[::2])\n",
    "print(name[::3])\n",
    "\n",
    "# Slicing and Striding at the same time\n",
    "# Get every element from index 6 to (15+1) with a stride of 2. \n",
    "# Meaning break the sliced array in that range by 2 characters and get the last from each break.\n",
    "print(name[5:16:2])\n",
    "print(name[5:16:3]) #nkr"
   ]
  },
  {
   "cell_type": "code",
   "execution_count": 28,
   "id": "4e5f647c",
   "metadata": {},
   "outputs": [
    {
     "name": "stdout",
     "output_type": "stream",
     "text": [
      "I am not the best in this world!\n",
      "I am not the best in this world!I am not the best in this world!I am not the best in this world!\n"
     ]
    }
   ],
   "source": [
    "# Concatenate Strings\n",
    "statement = \"I am not the best \"+\"in this world!\"\n",
    "print(statement)\n",
    "print(statement * 3) # Concats strings by the amount of times specified by the number\n"
   ]
  },
  {
   "cell_type": "code",
   "execution_count": 38,
   "id": "d95a2a58",
   "metadata": {},
   "outputs": [
    {
     "name": "stdout",
     "output_type": "stream",
     "text": [
      " A :  Thriller is the best sixth studio album\n",
      " B :  THRILLER IS THE BEST SIXTH STUDIO ALBUM\n",
      " C :  thriller is the best sixth studio album\n",
      " D :  Some other album is the best sixth studio album\n",
      "9\n",
      "9\n",
      "-1\n"
     ]
    }
   ],
   "source": [
    "# String operations\n",
    "A = \"Thriller is the best sixth studio album\"\n",
    "print(\" A : \", A)\n",
    "B = A.upper() # TO Upper\n",
    "print(\" B : \", B)\n",
    "C = A.lower() # TO Lower\n",
    "print(\" C : \", C)\n",
    "\n",
    "D = A.replace(\"Thriller\", \"Some other album\")\n",
    "print(\" D : \", D) # Replacing with a substring\n",
    "\n",
    "name = \"Mahela Jayawardena\"\n",
    "print(name.find('y')) # Gives the starting index of a substring\n",
    "print(name.find('yawa'))\n",
    "print(name.find('yawer')) # Since substring not found gives -1"
   ]
  },
  {
   "cell_type": "code",
   "execution_count": 2,
   "id": "63505adf",
   "metadata": {},
   "outputs": [
    {
     "name": "stdout",
     "output_type": "stream",
     "text": [
      "('Rock', 100, 99.9) <class 'tuple'>\n",
      "Rock 100 99.9\n",
      "99.9 100 Rock\n",
      "('Rock', 100, 99.9, 'Pop', 145, 34.78)\n",
      "('Rock', 100, 99.9, 'Pop', 145, 34.78, 123.56, 'Pop', 90.12, '@#$%^')\n",
      "('Pop', 145, 34.78, 123.56, 'Pop')\n",
      "('Rock', 100, 99.9, 'Pop', 145, 34.78, 123.56, 'Pop', 90.12, '@#$%^')\n",
      "10\n",
      "[0, 2, 5, 6, 6, 8, 9, 9, 10]\n",
      "(0, 9, 6, 5, 10, 8, 9, 6, 2)\n",
      "(('pop', 'rock'), ('disco', (1, 2)))\n",
      "(1, (3, 4))\n",
      "(1, ('pop', 'rock'), ('disco', (1, 2)))\n",
      "pop\n",
      "rock\n",
      "disco\n",
      "1\n",
      "2\n",
      "c\n",
      "8\n",
      "hard rock\n",
      "('hard rock', 'soft rock', 'R&B')\n",
      "('pop', 'rock')\n",
      "7\n"
     ]
    }
   ],
   "source": [
    "# Tuples\n",
    "\n",
    "exampleTuple = (\"Rock\",100,99.9)       \n",
    "print(exampleTuple, type(exampleTuple))\n",
    "\n",
    "# Element in the tuple is zero indexed. Could access elements as below\n",
    "print(exampleTuple[0],exampleTuple[1],exampleTuple[2])\n",
    "print(exampleTuple[-1],exampleTuple[-2],exampleTuple[-3])\n",
    "\n",
    "# Concatenate tuples\n",
    "exampleTuple2 = (\"Pop\",145,34.78) \n",
    "exampleTuple = exampleTuple + exampleTuple2\n",
    "print(exampleTuple) # It appends the elements to the first tuple\n",
    "\n",
    "# Lets try concatenating two tuples with different number of elements\n",
    "exampleTuple = exampleTuple + (123.56,\"Pop\",90.12,\"@#$%^\") \n",
    "print(exampleTuple) # It appends the elements to the first tuple\n",
    "\n",
    "# Can slice tuples\n",
    "print(exampleTuple[3:8])\n",
    "print(exampleTuple) # Slicing the tuple doesnot change the tuple that is sliced\n",
    "\n",
    "print(len(exampleTuple)) # Taking a length of a tuple\n",
    "\n",
    "# Sorting tuples\n",
    "ratings = (0, 9, 6, 5, 10, 8, 9, 6, 2)\n",
    "print(sorted(ratings))\n",
    "print(ratings)      # Sorting the tuple doesnot change the tuple that is sorted\n",
    "\n",
    "# Nested Tuples\n",
    "\n",
    "nestedTuple =(1, 2, (\"pop\", \"rock\") ,(3,4),(\"disco\",(1,2)))\n",
    "#print(sorted(nestedTuple))   # Cannot sort this tuple gives an error.\n",
    "print(nestedTuple[2:5:2])     # Slicing and stepping 2\n",
    "\n",
    "print(nestedTuple[::3]) \n",
    "print(nestedTuple[::2]) \n",
    "\n",
    "# Nested tuples like shown could be used as multi dimentional arrays\n",
    "print(nestedTuple[2][0])\n",
    "print(nestedTuple[2][1])\n",
    "print(nestedTuple[4][0])\n",
    "print(nestedTuple[4][1][0])\n",
    "print(nestedTuple[4][1][1])\n",
    "\n",
    "# Since strings could also be considered as an array we could take a step further and get the charactes as shown\n",
    "print(nestedTuple[2][1][2]) \n",
    "\n",
    "\n",
    "genres_tuple = (\"pop\", \"rock\", \"soul\", \"hard rock\", \"soft rock\", \\\n",
    "                \"R&B\", \"progressive rock\", \"disco\") \n",
    "print(len(genres_tuple))\n",
    "\n",
    "print(genres_tuple[3])\n",
    "print(genres_tuple[3:6])\n",
    "print(genres_tuple[0:2])\n",
    "\n",
    "### The index function is used to get index\n",
    "print(genres_tuple.index(\"disco\"))   "
   ]
  },
  {
   "cell_type": "code",
   "execution_count": 17,
   "id": "28d6944d",
   "metadata": {},
   "outputs": [
    {
     "name": "stdout",
     "output_type": "stream",
     "text": [
      "['FooBar', 123.56, -1098.4]\n",
      "FooBar FooBar\n",
      "[1, 2] ('A', 1)\n",
      "2 A\n",
      "[1982, 'MJ']\n",
      "MJ\n",
      "['Michael Jackson', 10.1, 1982, 'MJ', 1, 'PoP', (500, 404), ['Cocacola', 'Sprite']]\n",
      "['Michael Jackson', 10.1, 1982, 'MJ', 1, 'PoP', (500, 404), ['Cocacola', 'Sprite'], 'WeeWee']\n",
      "['Michael Jackson', 10.1, 1982, 'MJ', 1, 'PoP', (500, 404), ['Cocacola', 'Sprite'], 'WeeWee', ['WeeWee', 'Willie Winkie']]\n"
     ]
    }
   ],
   "source": [
    "# Lists\n",
    "\n",
    "# Lists are zero indexed\n",
    "first_list = [\"FooBar\", 123.56, -1098.4]\n",
    "print(first_list)\n",
    "\n",
    "print(first_list[0], first_list[-3]) # We get the last element as we did in tuple or other array\n",
    "\n",
    "# We can nest tuples and other lists inside a list\n",
    "second_list = [\"Michael Jackson\", 10.1, 1982, [1, 2], (\"A\", 1)]\n",
    "\n",
    "print(second_list[3],second_list[-1])\n",
    "print(second_list[3][1],second_list[-1][0])\n",
    "\n",
    "# Slice list\n",
    "L = [\"Michael Jackson\", 10.1,1982,\"MJ\",1]\n",
    "\n",
    "print(L[2:4])\n",
    "print(L[2:4][1])\n",
    "\n",
    "# Extend method to add elements to list\n",
    "L.extend([\"PoP\", (500,404), [\"Cocacola\", \"Sprite\"]])\n",
    "print(L)\n",
    "\n",
    "# Append\n",
    "L.append(\"WeeWee\") # Append method takes only one argument\n",
    "print(L)\n",
    "\n",
    "L.append([\"WeeWee\", \"Willie Winkie\"]) # Whatever is in append is added as it is as an entry to the list\n",
    "print(L)"
   ]
  }
 ],
 "metadata": {
  "kernelspec": {
   "display_name": "Python 3 (ipykernel)",
   "language": "python",
   "name": "python3"
  },
  "language_info": {
   "codemirror_mode": {
    "name": "ipython",
    "version": 3
   },
   "file_extension": ".py",
   "mimetype": "text/x-python",
   "name": "python",
   "nbconvert_exporter": "python",
   "pygments_lexer": "ipython3",
   "version": "3.9.7"
  }
 },
 "nbformat": 4,
 "nbformat_minor": 5
}
