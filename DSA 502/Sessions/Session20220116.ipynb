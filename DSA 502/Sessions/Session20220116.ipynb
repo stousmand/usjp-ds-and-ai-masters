{
 "cells": [
  {
   "cell_type": "code",
   "execution_count": 13,
   "id": "2178e458",
   "metadata": {},
   "outputs": [
    {
     "name": "stdout",
     "output_type": "stream",
     "text": [
      "[1, 2, 3, 4, 5, 6, 7, 8, 9, 10, 11] [1, 4, 7, 10]\n"
     ]
    }
   ],
   "source": [
    "high = 1\n",
    "low = 12\n",
    "increment = 3\n",
    "\n",
    "x = list(range(high,low)) # Takes the range to a list\n",
    "y = list(range(high,low,increment))\n",
    "\n",
    "print(x, y)"
   ]
  },
  {
   "cell_type": "code",
   "execution_count": 14,
   "id": "a4b11bae",
   "metadata": {},
   "outputs": [
    {
     "name": "stdout",
     "output_type": "stream",
     "text": [
      "**********"
     ]
    }
   ],
   "source": [
    "for i in range(1,11) :\n",
    "    # print(\"*\") # Default new line is applied\n",
    "    print(\"*\",end=\"\")"
   ]
  },
  {
   "cell_type": "code",
   "execution_count": 17,
   "id": "6e34473d",
   "metadata": {},
   "outputs": [
    {
     "name": "stdout",
     "output_type": "stream",
     "text": [
      "1 1\n",
      "2 3\n",
      "3 6\n",
      "4 10\n",
      "5 15\n",
      "15\n"
     ]
    }
   ],
   "source": [
    "sum = 0\n",
    "for x in [1,2,3,4,5]:\n",
    "    sum += x\n",
    "    print(x, sum)\n",
    "else: \n",
    "    # When break statement is used within the loop then this wont be executed. This blocks executes if the loops runs smoothly\n",
    "    print(sum)"
   ]
  },
  {
   "cell_type": "code",
   "execution_count": 27,
   "id": "5d54201d",
   "metadata": {},
   "outputs": [
    {
     "name": "stdout",
     "output_type": "stream",
     "text": [
      "Enter number to find factorial :3\n",
      "[1, 2, 3]\n",
      "Factorial :  6\n"
     ]
    }
   ],
   "source": [
    "# 1! = 1\n",
    "# 2! = 1 x 2\n",
    "# 3! = 1 x 2 x 3\n",
    "# 4! = 1 x 2 x 3 x 4\n",
    "\n",
    "number = int(input(\"Enter number to find factorial :\"))\n",
    "fact = 1\n",
    "fact_range = range(fact, number+1) #This is needs to be done or the elements generated in range is one less than expected\n",
    "print(list(fact_range))\n",
    "\n",
    "for number in fact_range:\n",
    "    fact *= number\n",
    "else:\n",
    "    print(\"Factorial : \", fact)"
   ]
  },
  {
   "cell_type": "code",
   "execution_count": 55,
   "id": "a53048d0",
   "metadata": {},
   "outputs": [
    {
     "name": "stdout",
     "output_type": "stream",
     "text": [
      "\n",
      "*****\n",
      "*****\n",
      "*****\n",
      "*****\n",
      "*****"
     ]
    }
   ],
   "source": [
    "for j in range(1,6):\n",
    "    print(\"\") #This implicitly has a new line, not like othe languages, so no need to mention a \\n in the statement\n",
    "    for i in range(1,6):\n",
    "        print(\"*\", end=\"\")"
   ]
  },
  {
   "cell_type": "code",
   "execution_count": null,
   "id": "4145fb80",
   "metadata": {},
   "outputs": [],
   "source": []
  },
  {
   "cell_type": "code",
   "execution_count": 54,
   "id": "e34813ab",
   "metadata": {},
   "outputs": [
    {
     "name": "stdout",
     "output_type": "stream",
     "text": [
      "*****\n",
      "****\n",
      "***\n",
      "**\n",
      "*\n",
      "*\n",
      "**\n",
      "***\n",
      "****\n",
      "*****\n"
     ]
    }
   ],
   "source": [
    "for j in range(1,6):\n",
    "    for i in range(j,6):\n",
    "        print(\"*\", end=\"\")\n",
    "    print(\"\")\n",
    "    \n",
    "for j in range(1,6):\n",
    "    for i in range(1,j+1): # Again here the maximum should be plus 1\n",
    "        print(\"*\", end=\"\")\n",
    "    print(\"\")"
   ]
  },
  {
   "cell_type": "code",
   "execution_count": 56,
   "id": "eceb2a6b",
   "metadata": {},
   "outputs": [
    {
     "name": "stdout",
     "output_type": "stream",
     "text": [
      "*****\n",
      "****\n",
      "***\n",
      "**\n",
      "*\n",
      "\n"
     ]
    }
   ],
   "source": [
    "for j in range(1,7):\n",
    "    for i in range(1,7-j):\n",
    "        print(\"*\", end=\"\")\n",
    "    print(\"\")"
   ]
  },
  {
   "cell_type": "code",
   "execution_count": 74,
   "id": "cae5a9b2",
   "metadata": {},
   "outputs": [
    {
     "name": "stdout",
     "output_type": "stream",
     "text": [
      "      *\n",
      "     ***\n",
      "    *****\n",
      "   *******\n",
      "  *********\n",
      " ***********\n"
     ]
    }
   ],
   "source": [
    "# 1 - 1\n",
    "# 2 - 3\n",
    "# 3 - 5\n",
    "# n - 2n-1\n",
    "\n",
    "for j in range(1,7):\n",
    "    for y in range(7,j,-1): # a negative step to be used to decrement at each row.\n",
    "        print(\" \",end=\"\")\n",
    "    for x in range(0,2*j-1):\n",
    "        print(\"*\",end =\"\")\n",
    "    print(\"\")"
   ]
  },
  {
   "cell_type": "code",
   "execution_count": 79,
   "id": "3ac67920",
   "metadata": {},
   "outputs": [
    {
     "name": "stdout",
     "output_type": "stream",
     "text": [
      "0\n",
      "1\n",
      "2\n",
      "3\n",
      "4\n",
      "Loop end\n"
     ]
    }
   ],
   "source": [
    "a = 0; b = 5\n",
    "while a < b:\n",
    "    print(a)\n",
    "    '''\n",
    "    if(a == 3):\n",
    "    break\n",
    "    '''\n",
    "    a += 1\n",
    "else:\n",
    "    print(\"Loop end\") # if a break statement is used in the loop this block wont be hit"
   ]
  },
  {
   "cell_type": "code",
   "execution_count": 83,
   "id": "78b5c051",
   "metadata": {},
   "outputs": [
    {
     "data": {
      "text/plain": [
       "'\\nTODO -- Try this later\\nfor j in range(1,7):\\n    for y in range(7,j,-1): # a negative step to be used to decrement at each row.\\n        print(\" \",end=\"\")\\n    for x in range(0,2*j-1):\\n        print(\"*\",end =\"\")\\n    print(\"\")\\nDo this in while loop\\n\\na = 1 ; b = 7\\nwhile a < b : # Row loop\\n    while \\n    print(\"*\",end =\"\")\\n    while \\n    a += 1\\n'"
      ]
     },
     "execution_count": 83,
     "metadata": {},
     "output_type": "execute_result"
    }
   ],
   "source": [
    "'''\n",
    "TODO -- Try this later\n",
    "for j in range(1,7):\n",
    "    for y in range(7,j,-1): # a negative step to be used to decrement at each row.\n",
    "        print(\" \",end=\"\")\n",
    "    for x in range(0,2*j-1):\n",
    "        print(\"*\",end =\"\")\n",
    "    print(\"\")\n",
    "Do this in while loop below\n",
    "\n",
    "a = 1 ; b = 7\n",
    "while a < b : # Row loop\n",
    "    while \n",
    "    print(\"*\",end =\"\")\n",
    "    while \n",
    "    a += 1\n",
    "'''"
   ]
  },
  {
   "cell_type": "code",
   "execution_count": 89,
   "id": "af3faac1",
   "metadata": {},
   "outputs": [
    {
     "name": "stdout",
     "output_type": "stream",
     "text": [
      "[2, 3, 4, 5, 6, 7, 8, 9]\n",
      "2 is prime\n",
      "3 is prime\n",
      "4 equals 2 * 2.0\n",
      "5 is prime\n",
      "6 equals 2 * 3.0\n",
      "7 is prime\n",
      "8 equals 2 * 4.0\n",
      "9 equals 3 * 3.0\n"
     ]
    }
   ],
   "source": [
    "print(list(range(2,10)))\n",
    "\n",
    "for n in range(2,10):\n",
    "    for x in range(2,n):\n",
    "        if n%x ==0:\n",
    "            print(n, 'equals', x, '*', n/x)\n",
    "            break\n",
    "    else:\n",
    "        # Loop fell though without finding a factor\n",
    "        print(n,\"is prime\")"
   ]
  },
  {
   "cell_type": "code",
   "execution_count": 96,
   "id": "e5c39b76",
   "metadata": {},
   "outputs": [
    {
     "name": "stdout",
     "output_type": "stream",
     "text": [
      "Enter number : 5\n",
      "5 is the largest prime\n"
     ]
    }
   ],
   "source": [
    "# Find the largest Prime. Break when the largest prime is found.\n",
    "m = int(input(\"Enter number : \"))\n",
    "\n",
    "for n in range(m, 1, -1):\n",
    "    for x in range(2,n):\n",
    "        if n%x ==0:\n",
    "            print(n, 'equals', x, '*', n/x)\n",
    "            break\n",
    "    else:\n",
    "        # Loop fell though without finding a factor\n",
    "        print(n,\"is the largest prime\")\n",
    "        break"
   ]
  },
  {
   "cell_type": "code",
   "execution_count": 99,
   "id": "f0b5b7e2",
   "metadata": {},
   "outputs": [
    {
     "name": "stdout",
     "output_type": "stream",
     "text": [
      "[1, 2][3, 4][7, 8]"
     ]
    }
   ],
   "source": [
    "S = [(1,2), (3,4), (7,8)]\n",
    "for (x,y) in S:\n",
    "    print([x,y], end=\"\")"
   ]
  },
  {
   "cell_type": "code",
   "execution_count": 119,
   "id": "53972c6c",
   "metadata": {},
   "outputs": [
    {
     "name": "stdout",
     "output_type": "stream",
     "text": [
      "AAAA\n",
      "<class 'str'>\n",
      "FooBar FooBar FooBar \n",
      "B\n",
      "omp\n",
      "puter\n",
      "Compu\n",
      "r\n",
      "t\n",
      "Comput\n",
      "opt\n",
      "horseshoe\n",
      "Foo,Bar\n",
      "['Foo,Bar']\n",
      "['Foo', 'Bar']\n"
     ]
    }
   ],
   "source": [
    "# Ref : https://www.w3schools.com/python/default.asp\n",
    "# https://www.w3schools.com/datascience/default.asp\n",
    "# https://www.w3schools.com/\n",
    "\n",
    "sample_string = \"AAAA\" # Can use 'FooBar' , '''FooBar''' as well\n",
    "print(sample_string)\n",
    "\n",
    "print(type(sample_string)) # Data type of the variable\n",
    "\n",
    "sample_string = \"FooBar \"*3\n",
    "print(sample_string)\n",
    "\n",
    "x = sample_string[3] # Gives B, string could be accessed as an array\n",
    "print(x)\n",
    "\n",
    "# Slicing\n",
    "x = \"Computer\"\n",
    "# Similar to substring but what this does is ets part of a list/array. Here starts from index 1 and upto (4-1) index\n",
    "print(x[1:4])\n",
    "print(x[3:])\n",
    "print(x[:5]) # From start to index (5-1)\n",
    "# First from right side. list/arrays could be accessed from left-> right and right -> left. This is from right to left.\n",
    "print(x[-1])\n",
    "print(x[-3])\n",
    "print(x[:-2]) # From 0 index to -2-> (-2-1 = -3) => So gets 0 upto -3 characters Comput\n",
    "print(x[1:6:2]) # A step is added (here its 2) \n",
    "\n",
    "y = 'horse'+'shoe'\n",
    "print(y)\n",
    "\n",
    "z =\",\".join([\"Foo\",\"Bar\"])\n",
    "print(z) # join function to concat string with a special character\n",
    "\n",
    "#Split\n",
    "print(z.split()) # A character is not defined as to from where it should be split. See below\n",
    "print(z.split(\",\")) "
   ]
  },
  {
   "cell_type": "code",
   "execution_count": 127,
   "id": "cdc35452",
   "metadata": {},
   "outputs": [
    {
     "name": "stdout",
     "output_type": "stream",
     "text": [
      "NIC number:842587913V\n",
      "Male\n"
     ]
    }
   ],
   "source": [
    "'''\n",
    "Logic -\n",
    "https://srilanka-information-zone.blogspot.com/p/sri-lankan-national-identity-card-nic.html#:~:text=First%20two%20digits%20(79)%20represent,500%2C%20NIC%20holder%20is%20female.\n",
    "Example :\n",
    "NIC - 842587913V\n",
    "'''\n",
    "nic = input(\"NIC number:\")\n",
    "factor = nic[2:5]\n",
    "if int(factor) < 500:\n",
    "    print(\"Male\")\n",
    "else:\n",
    "    print(\"Female\")"
   ]
  },
  {
   "cell_type": "code",
   "execution_count": 137,
   "id": "106266b2",
   "metadata": {
    "scrolled": true
   },
   "outputs": [
    {
     "name": "stdout",
     "output_type": "stream",
     "text": [
      "True\n",
      "True\n",
      "False\n",
      "True\n",
      "False\n",
      "True\n",
      "False\n"
     ]
    }
   ],
   "source": [
    "# Checking the availability of elements in an array/list\n",
    "UNI = \"University Of Sri Jayawardenepura\"\n",
    "\n",
    "print('u' in UNI) # u is found in the string UNI\n",
    "print('X' not in UNI)\n",
    "print('o' in UNI) # Case sensitive, no o in the text but there is O\n",
    "print(\"Uni\" in UNI)\n",
    "print(\"uni\" in UNI) # Case sensitive, no uni in the text but there is Uni\n",
    "\n",
    "# Start or End with a substring\n",
    "print(UNI.startswith('University'))\n",
    "print(UNI.endswith('Jayawardenepura ')) # Since there is an additional white space at the end"
   ]
  },
  {
   "cell_type": "code",
   "execution_count": 142,
   "id": "241e316f",
   "metadata": {},
   "outputs": [
    {
     "name": "stdout",
     "output_type": "stream",
     "text": [
      "4\n",
      "28\n",
      "-1\n",
      "14\n",
      "3\n"
     ]
    }
   ],
   "source": [
    "# Find\n",
    "name = \"University Of Sri Jayawardenepura\"\n",
    "\n",
    "print(name.find('e')) # Returns the index of first occurrence\n",
    "# Finds from right to left BUT position is given from left to right index start so its 28 not a minus value\n",
    "print(name.rfind('e'))\n",
    "\n",
    "print(name.find('sri')) # No substring sri found so returns -1\n",
    "print(name.find('Sri'))\n",
    "\n",
    "print(name.count('e')) # 3 'e' s found"
   ]
  },
  {
   "cell_type": "code",
   "execution_count": 149,
   "id": "9105426f",
   "metadata": {},
   "outputs": [
    {
     "name": "stdout",
     "output_type": "stream",
     "text": [
      "Enter palindrome number :45\n"
     ]
    }
   ],
   "source": [
    "'''\n",
    "TODO Hint - Access the array with the index directly and match them\n",
    "'''\n",
    "# Plindrome\n",
    "palindrome = input(\"Enter palindrome number :\")\n",
    "length_of_palindrome = len(palindrome)\n",
    "\n",
    "for i in range(length_of_palindrome) :\n",
    "    if i == length_of_palindrome/2 :\n",
    "        break\n",
    "else:\n",
    "    print(\"X\")"
   ]
  },
  {
   "cell_type": "code",
   "execution_count": 157,
   "id": "607264b6",
   "metadata": {},
   "outputs": [
    {
     "name": "stdout",
     "output_type": "stream",
     "text": [
      "University Of RRR Jayawardenepura\n",
      "False\n",
      "True\n",
      "True\n",
      "False\n",
      "True\n",
      "False\n"
     ]
    }
   ],
   "source": [
    "name = \"University Of Sri Jayawardenepura\"\n",
    "name = name.replace('Sri', 'RRR')\n",
    "print(name)\n",
    "\n",
    "# islower(), isupper(), istitle(), isalnum(), isalpha(), isnumeric(), isdigit(), isdecimal()\n",
    "print(name.islower())\n",
    "print(\"university\".islower())\n",
    "\n",
    "print(\"23123sfdfasdfs\".isalnum())\n",
    "print(\"23123sfdfasdfs\".isalpha())\n",
    "\n",
    "print(\"3\".isdecimal())\n",
    "print(\"3.1246\".isdecimal())"
   ]
  },
  {
   "cell_type": "code",
   "execution_count": 165,
   "id": "609b7170",
   "metadata": {},
   "outputs": [
    {
     "name": "stdout",
     "output_type": "stream",
     "text": [
      "0123456789\n",
      "!\"#$%&'()*+,-./:;<=>?@[\\]^_`{|}~\n",
      "abcdefghijklmnopqrstuvwxyz\n",
      "ABCDEFGHIJKLMNOPQRSTUVWXYZ\n"
     ]
    }
   ],
   "source": [
    "# Getting all available characters of a given set\n",
    "import string\n",
    "\n",
    "print(string.digits)\n",
    "print(string.punctuation)\n",
    "print(string.ascii_lowercase)\n",
    "print(string.ascii_uppercase)"
   ]
  },
  {
   "cell_type": "code",
   "execution_count": 171,
   "id": "5968635d",
   "metadata": {},
   "outputs": [
    {
     "name": "stdout",
     "output_type": "stream",
     "text": [
      "University Of Sri Jayawardenepura.\n",
      "University Of Sri Jayawardenepura .\n",
      " University Of Sri Jayawardenepura.\n",
      "U\n",
      "y\n"
     ]
    }
   ],
   "source": [
    "# lower(), upper(), title(), capitalized()\n",
    "# TODO -- Do some samples\n",
    "\n",
    "# Strip - Trimming the string of white spaces\n",
    "# lstrip(), rstrip(), strip()\n",
    "\n",
    "name = \" University Of Sri Jayawardenepura \"\n",
    "print(name.strip()+\".\")\n",
    "print(name.lstrip()+\".\")\n",
    "print(name.rstrip()+\".\")\n",
    "\n",
    "# Min & Max - Minimun and Maximum characeter (highest and lowest ascii value)\n",
    "name = \"University\"\n",
    "print(min(name))\n",
    "print(max(name)) # The numeric equivalent of the character in ascii is checked for min max not alphabetical order"
   ]
  },
  {
   "cell_type": "code",
   "execution_count": 173,
   "id": "3f9aea2a",
   "metadata": {},
   "outputs": [
    {
     "name": "stdout",
     "output_type": "stream",
     "text": [
      "[' ', ' ', ' ', ' ', ' ', 'J', 'O', 'S', 'U', 'a', 'a', 'a', 'a', 'd', 'e', 'e', 'e', 'f', 'i', 'i', 'i', 'n', 'n', 'p', 'r', 'r', 'r', 'r', 's', 't', 'u', 'v', 'w', 'y', 'y']\n"
     ]
    }
   ],
   "source": [
    "# Sorting\n",
    "name = \" University Of Sri Jayawardenepura \"\n",
    "print(sorted(name)) # Sorted according to numeric value of the ascii character"
   ]
  },
  {
   "cell_type": "code",
   "execution_count": 178,
   "id": "14e4a0fa",
   "metadata": {},
   "outputs": [
    {
     "name": "stdout",
     "output_type": "stream",
     "text": [
      "U n i v e r s i t y   O f   S r i   J a y a w a r d e n e p u r a 1 One\n",
      "2 Two\n",
      "3 Three\n",
      "4 Four\n",
      "Three birds are sitting on Two branches\n"
     ]
    }
   ],
   "source": [
    "# Iterating String\n",
    "name =\"University Of Sri Jayawardenepura\"\n",
    "\n",
    "for character in name:\n",
    "    print(character,end=\" \")\n",
    "    \n",
    "# Iterating\n",
    "s =  \"3 birds are sitting on 2 branches\"\n",
    "d = {\"1\":\"One\",\"2\":\"Two\",\"3\":\"Three\",\"4\":\"Four\"} # Dictionary\n",
    "\n",
    "for k,v in d.items(): # Iterating through a dictionary. The values are mapped to variables k and v individually\n",
    "    s = s.replace(k,v) # String function replacing a tring with another string\n",
    "    print(k,v)\n",
    "print(s)"
   ]
  },
  {
   "cell_type": "code",
   "execution_count": 181,
   "id": "4856d3ae",
   "metadata": {},
   "outputs": [
    {
     "name": "stdout",
     "output_type": "stream",
     "text": [
      "(2,) <class 'tuple'>\n",
      "(2, 4, 6) <class 'tuple'>\n"
     ]
    }
   ],
   "source": [
    "# Tuples\n",
    "\n",
    "x =()\n",
    "x = (1,2,3)\n",
    "\n",
    "x = 1,2,3\n",
    "x = 2,     #the comma tells python that this is a tuple\n",
    "\n",
    "print(x, type(x))\n",
    "\n",
    "list1 = [2,4,6]\n",
    "x = tuple(list1)\n",
    "print(x, type(x))"
   ]
  },
  {
   "cell_type": "code",
   "execution_count": null,
   "id": "c776a0a2",
   "metadata": {},
   "outputs": [],
   "source": [
    "# Sets\n",
    "\n",
    "# Dictionary"
   ]
  }
 ],
 "metadata": {
  "kernelspec": {
   "display_name": "Python 3 (ipykernel)",
   "language": "python",
   "name": "python3"
  },
  "language_info": {
   "codemirror_mode": {
    "name": "ipython",
    "version": 3
   },
   "file_extension": ".py",
   "mimetype": "text/x-python",
   "name": "python",
   "nbconvert_exporter": "python",
   "pygments_lexer": "ipython3",
   "version": "3.9.7"
  }
 },
 "nbformat": 4,
 "nbformat_minor": 5
}
