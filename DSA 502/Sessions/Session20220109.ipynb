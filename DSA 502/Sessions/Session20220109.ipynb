{
 "cells": [
  {
   "cell_type": "code",
   "execution_count": 23,
   "id": "32f71954",
   "metadata": {},
   "outputs": [
    {
     "name": "stdout",
     "output_type": "stream",
     "text": [
      "Foo\n",
      "MSc in DS&AI@SJP\n",
      "ZZZZZZZZZZZZ\n",
      "10|20|30#Bar\n"
     ]
    }
   ],
   "source": [
    "print(\"Foo\")\n",
    "\n",
    "print(\"MSc in DS&AI@SJP\")\n",
    "\n",
    "print(\"Z\"*12)\n",
    "\n",
    "n1 = 10\n",
    "n2 = 20\n",
    "tot = n1+n2\n",
    "print(n1,n2,tot, sep = '|',end='#')\n",
    "print(\"Bar\")"
   ]
  },
  {
   "cell_type": "code",
   "execution_count": 32,
   "id": "264653a5",
   "metadata": {},
   "outputs": [
    {
     "name": "stdout",
     "output_type": "stream",
     "text": [
      "Enter Maths marks 1\n",
      "Enter Science marks 3\n",
      "Total marks :  4\n"
     ]
    }
   ],
   "source": [
    "# a = input(\"Enter number \")\n",
    "# print(\"a is :\",a)\n",
    "\n",
    "markMath = int(input(\"Enter Maths marks \"))\n",
    "markScience = int(input(\"Enter Science marks \"))\n",
    "\n",
    "print(\"Total marks : \",(markMath+markScience))"
   ]
  },
  {
   "cell_type": "code",
   "execution_count": 42,
   "id": "af48c9f3",
   "metadata": {},
   "outputs": [
    {
     "name": "stdout",
     "output_type": "stream",
     "text": [
      "2.5\n",
      "1\n",
      "2\n",
      "36\n",
      "144\n",
      "25.0\n",
      "11.0\n"
     ]
    }
   ],
   "source": [
    "a = 5/2\n",
    "print(a)\n",
    "\n",
    "a = 5%2\n",
    "print(a)\n",
    "\n",
    "a = 5//2 #Integer devision - Gets the integer part\n",
    "print(a)\n",
    "\n",
    "b = 6**2 # Power\n",
    "print(b)\n",
    "\n",
    "d = pow(12,2)\n",
    "print(d)\n",
    "\n",
    "c = 625 ** (1/2) # Sqrt\n",
    "print(c)\n",
    "\n",
    "e = pow(121,0.5)\n",
    "print(e)"
   ]
  },
  {
   "cell_type": "code",
   "execution_count": 55,
   "id": "4b300817",
   "metadata": {},
   "outputs": [
    {
     "name": "stdout",
     "output_type": "stream",
     "text": [
      "Time total seconds :4567\n",
      "aa  4567\n",
      "Days:Hours:Minutes:Seconds:0:1:0:0\n"
     ]
    }
   ],
   "source": [
    "timeSeconds = int(input(\"Time total seconds :\"))\n",
    "\n",
    "#Seconds for a day 86400\n",
    "days = timeSeconds//86400\n",
    "remainingSeconds = (timeSeconds%86400)\n",
    "\n",
    "hours = remainingSeconds//3600\n",
    "remainingSeconds = (hours%3600)\n",
    "\n",
    "minutes = remainingSeconds//60\n",
    "remainingSeconds = (minutes%60)\n",
    "\n",
    "print(\"Days:Hours:Minutes:Seconds\", days, hours, minutes, remainingSeconds,sep=\":\")\n",
    "\n",
    "#You could use compound assignment operators as well"
   ]
  },
  {
   "cell_type": "code",
   "execution_count": 63,
   "id": "c531d29a",
   "metadata": {},
   "outputs": [
    {
     "name": "stdout",
     "output_type": "stream",
     "text": [
      "Mark one :14\n",
      "Mark two :99\n",
      "Pass\n"
     ]
    }
   ],
   "source": [
    "m1 = int(input(\"Mark one :\"))\n",
    "m2 = int(input(\"Mark two :\"))\n",
    "\n",
    "if (m1+m2)/2 >= 50 :\n",
    "    print (\"Pass\")\n",
    "else :\n",
    "    print (\"Fail\")"
   ]
  },
  {
   "cell_type": "code",
   "execution_count": 70,
   "id": "989833a9",
   "metadata": {},
   "outputs": [
    {
     "name": "stdout",
     "output_type": "stream",
     "text": [
      "Mark one :23\n",
      "Mark two :89\n",
      "C\n"
     ]
    }
   ],
   "source": [
    "m1 = int(input(\"Mark one :\"))\n",
    "m2 = int(input(\"Mark two :\"))\n",
    "\n",
    "avg = (m1+m2)/2\n",
    "\n",
    "if avg >= 75 :\n",
    "    print (\"A\")\n",
    "elif avg < 75 and avg >= 65 :\n",
    "    print (\"B\")\n",
    "elif avg < 65 and avg >= 50 :\n",
    "    print (\"C\")\n",
    "elif avg < 50 and avg >= 40 :\n",
    "    print (\"D\")\n",
    "else :\n",
    "    print(\"F\")"
   ]
  },
  {
   "cell_type": "code",
   "execution_count": 75,
   "id": "566d936e",
   "metadata": {},
   "outputs": [
    {
     "name": "stdout",
     "output_type": "stream",
     "text": [
      "(3+4j) (5-3j)\n"
     ]
    }
   ],
   "source": [
    "x = 3 + 5j\n",
    "y = -1j\n",
    "print(x+y,x*y)"
   ]
  },
  {
   "cell_type": "code",
   "execution_count": 82,
   "id": "213b2a5e",
   "metadata": {},
   "outputs": [
    {
     "data": {
      "text/plain": [
       "'test______'"
      ]
     },
     "execution_count": 82,
     "metadata": {},
     "output_type": "execute_result"
    }
   ],
   "source": [
    "'{:10}'.format('test') # Left\n",
    "'{:>10}'.format('test') # Right\n",
    "'{:^10}'.format('test') # Center\n",
    "'{:_<10}'.format('test') # Filling characters"
   ]
  },
  {
   "cell_type": "code",
   "execution_count": 94,
   "id": "3a583de6",
   "metadata": {},
   "outputs": [
    {
     "name": "stdout",
     "output_type": "stream",
     "text": [
      "Enter character : s\n",
      "Lower case letter\n"
     ]
    }
   ],
   "source": [
    "character = input(\"Enter character : \")\n",
    "\n",
    "if 'a' <= character <= 'z' :\n",
    "    print(\"Lower case letter\")\n",
    "elif 'A'<= character <= 'Z' :\n",
    "    print(\"Upper case letter\")\n",
    "else :\n",
    "    print(\"Not a letter\")"
   ]
  },
  {
   "cell_type": "code",
   "execution_count": 111,
   "id": "85ea941b",
   "metadata": {},
   "outputs": [
    {
     "name": "stdout",
     "output_type": "stream",
     "text": [
      "Enter number 1 : -8\n",
      "Enter number 2 : -23\n",
      "Enter number 3 : -89\n",
      "\n",
      "Lergest number :  -8\n"
     ]
    }
   ],
   "source": [
    "number1 = int(input(\"Enter number 1 : \"))\n",
    "number2 = int(input(\"Enter number 2 : \"))\n",
    "number3 = int(input(\"Enter number 3 : \"))\n",
    "\n",
    "largest = 0\n",
    "\n",
    "if (number1 <= number2 <= number3) or (number2 <= number1 <= number3) :\n",
    "    largest = number3\n",
    "elif (number1 <= number3 <= number2) or (number3 <= number1 <= number2) :\n",
    "    largest = number2\n",
    "elif (number2 <= number3 <= number1) or (number3 <= number2 <= number1) :\n",
    "    largest = number1\n",
    "\n",
    "print(\"\\nLergest number : \", largest)"
   ]
  },
  {
   "cell_type": "code",
   "execution_count": 112,
   "id": "4272ac7d",
   "metadata": {},
   "outputs": [
    {
     "ename": "IndentationError",
     "evalue": "expected an indented block (Temp/ipykernel_2208/267553508.py, line 13)",
     "output_type": "error",
     "traceback": [
      "\u001b[1;36m  File \u001b[1;32m\"C:\\Users\\DCS\\AppData\\Local\\Temp/ipykernel_2208/267553508.py\"\u001b[1;36m, line \u001b[1;32m13\u001b[0m\n\u001b[1;33m    print(\"\\nIs a leap year \", largest)\u001b[0m\n\u001b[1;37m                                       ^\u001b[0m\n\u001b[1;31mIndentationError\u001b[0m\u001b[1;31m:\u001b[0m expected an indented block\n"
     ]
    }
   ],
   "source": [
    "year = int(input(\"Enter year : \"))\n",
    "\n",
    "isLeap = false\n",
    "\n",
    "if (year%4 == 0) :\n",
    "    if(year%100 == 0) :\n",
    "        if (year%400 == 0) :\n",
    "            isLeap = true\n",
    "        else :\n",
    "            isLeap = false\n",
    "    else :\n",
    "\n",
    "print(\"\\nIs a leap year \", largest)"
   ]
  },
  {
   "cell_type": "code",
   "execution_count": 114,
   "id": "9c01a318",
   "metadata": {},
   "outputs": [
    {
     "ename": "SyntaxError",
     "evalue": "invalid syntax (Temp/ipykernel_2208/3342612106.py, line 2)",
     "output_type": "error",
     "traceback": [
      "\u001b[1;36m  File \u001b[1;32m\"C:\\Users\\DCS\\AppData\\Local\\Temp/ipykernel_2208/3342612106.py\"\u001b[1;36m, line \u001b[1;32m2\u001b[0m\n\u001b[1;33m    match m:\u001b[0m\n\u001b[1;37m          ^\u001b[0m\n\u001b[1;31mSyntaxError\u001b[0m\u001b[1;31m:\u001b[0m invalid syntax\n"
     ]
    }
   ],
   "source": [
    "m=2\n",
    "match m: #This is available in the latest Python distribution\n",
    "    case 1: print(\"31 days\")\n",
    "    case 2: print(\"30 days\")\n",
    "    case 3: print(\"29 days\")\n",
    "    case _: print(\"28 days\")"
   ]
  }
 ],
 "metadata": {
  "kernelspec": {
   "display_name": "Python 3 (ipykernel)",
   "language": "python",
   "name": "python3"
  },
  "language_info": {
   "codemirror_mode": {
    "name": "ipython",
    "version": 3
   },
   "file_extension": ".py",
   "mimetype": "text/x-python",
   "name": "python",
   "nbconvert_exporter": "python",
   "pygments_lexer": "ipython3",
   "version": "3.9.7"
  }
 },
 "nbformat": 4,
 "nbformat_minor": 5
}
