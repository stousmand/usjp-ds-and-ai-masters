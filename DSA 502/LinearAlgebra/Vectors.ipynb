{
 "cells": [
  {
   "cell_type": "code",
   "execution_count": 9,
   "id": "ef9887ee",
   "metadata": {},
   "outputs": [
    {
     "name": "stdout",
     "output_type": "stream",
     "text": [
      "((1, 3, 5), (6, 7, 8), (9, 10, 11))\n",
      "[[-3, 4, 6], [1, 7, 4], [5, 1.9, 3]]\n"
     ]
    }
   ],
   "source": [
    "\"\"\"\n",
    "Reference : https://docs.python.org/3/tutorial/datastructures.html#\n",
    "\"\"\"\n",
    "# We could use tuples or lists to represent a vector\n",
    "u = (1,3,5)\n",
    "v = (6,7,8)\n",
    "w = (9,10,11)\n",
    "\n",
    "A = tuple((u,v,w))\n",
    "print(A)\n",
    "\n",
    "B = [[-3,4,6],[1,7,4],[5,1.9,3]]\n",
    "print(B)"
   ]
  },
  {
   "cell_type": "code",
   "execution_count": 4,
   "id": "b87c899e",
   "metadata": {},
   "outputs": [
    {
     "name": "stdout",
     "output_type": "stream",
     "text": [
      "Enter vector 1 (eg: 9.1,-3.44,0.5184) : 1,2,3\n",
      "Enter vector 2 (eg: 9.1,-3.44,0.5184) : 4,5,6\n",
      "Entered Vectors : [[1.0, 2.0, 3.0], [4.0, 5.0, 6.0]]\n",
      "Resultant vector =  [5.0, 7.0, 9.0]\n"
     ]
    },
    {
     "data": {
      "text/plain": [
       "'\\nNote : This works only for 3 variable vectors, we could attempt to madify this further to accomodate n variable vectors\\n'"
      ]
     },
     "execution_count": 4,
     "metadata": {},
     "output_type": "execute_result"
    }
   ],
   "source": [
    "# Lets try vector addition\n",
    "# 1. Result u + v + w\n",
    "\n",
    "# a = u + v + w # This just appends all the tuples and creates one big tuple or list\n",
    "\n",
    "# Logic : Elements in similar indexes should be added\n",
    "# 1. Reading the vectors\n",
    "def readVectors(number_of_vectors):\n",
    "    vectors = []\n",
    "    i = 1\n",
    "    while i <= number_of_vectors :\n",
    "        casted_vector=[] # Casted list of values of entered vector\n",
    "        v = input(\"Enter vector {} (eg: 9.1,-3.44,0.5184) : \".format(str(i))).split(\",\") # You could chain methods this way\n",
    "        for a in v:\n",
    "            casted_vector.append(float(a)) # This casting needs to be done since values read are read as strings\n",
    "        vectors.append(casted_vector)\n",
    "        i += 1\n",
    "    print(\"Entered Vectors :\",vectors)\n",
    "    return vectors\n",
    "    \n",
    "# 2. Adding Vectors\n",
    "def vectorAddition(vectors):\n",
    "    x = y = z = 0\n",
    "    for x1,x2,x3 in vectors :\n",
    "        x += x1\n",
    "        y += x2\n",
    "        z += x3\n",
    "    return [x,y,z]\n",
    "\n",
    "# Function execution\n",
    "print(\"Resultant vector = \",vectorAddition(readVectors(2)))\n",
    "\n",
    "'''\n",
    "Note : This works only for 3 variable vectors, we could attempt to madify this further to accomodate n variable vectors\n",
    "'''"
   ]
  },
  {
   "cell_type": "code",
   "execution_count": 10,
   "id": "c32bfb61",
   "metadata": {},
   "outputs": [
    {
     "name": "stdout",
     "output_type": "stream",
     "text": [
      "Enter vector 1 (eg: 9.1,-3.44,0.5184) : 1,-2,3\n",
      "Enter vector 2 (eg: 9.1,-3.44,0.5184) : 2,7,4\n",
      "Entered Vectors : [[1.0, -2.0, 3.0], [2.0, 7.0, 4.0]]\n",
      "Resultant vector =  0.0\n"
     ]
    }
   ],
   "source": [
    "# 2 . Inner Product (Dot product)\n",
    "\n",
    "def vectorDotProd(vectors):\n",
    "    i = 0\n",
    "    x = y = z = 0\n",
    "    while i < len(vectors):\n",
    "        x1,x2,x3 = vectors[i] # Unpacking\n",
    "        if(i == 0):\n",
    "            x = x1; y = x2; z = x3\n",
    "        else:\n",
    "            x *= x1; y *= x2; z *= x3\n",
    "        i+=1 # iterator counter\n",
    "    return x+y+z\n",
    "\n",
    "print(\"Resultant vector = \",vectorDotProd(readVectors(2)))\n",
    "\n",
    "'''\n",
    "Note : This works only for 3 variable vectors, we could attempt to madify this further to accomodate n variable vectors\n",
    "'''"
   ]
  }
 ],
 "metadata": {
  "kernelspec": {
   "display_name": "Python 3 (ipykernel)",
   "language": "python",
   "name": "python3"
  },
  "language_info": {
   "codemirror_mode": {
    "name": "ipython",
    "version": 3
   },
   "file_extension": ".py",
   "mimetype": "text/x-python",
   "name": "python",
   "nbconvert_exporter": "python",
   "pygments_lexer": "ipython3",
   "version": "3.9.7"
  }
 },
 "nbformat": 4,
 "nbformat_minor": 5
}
