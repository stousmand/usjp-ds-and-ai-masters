{
 "cells": [
  {
   "cell_type": "code",
   "execution_count": 4,
   "id": "7391245f",
   "metadata": {},
   "outputs": [
    {
     "name": "stdout",
     "output_type": "stream",
     "text": [
      "Hello Python\n",
      "Hello\n",
      "Python\n"
     ]
    }
   ],
   "source": [
    "#Printing Something\n",
    "print(\"Hello Python\")\n",
    "print(\"Hello\\nPython\") #\\n Newline character you know this right"
   ]
  },
  {
   "cell_type": "code",
   "execution_count": 15,
   "id": "937108d2",
   "metadata": {},
   "outputs": [
    {
     "name": "stdout",
     "output_type": "stream",
     "text": [
      "2.0\n",
      "23\n",
      "12\n",
      "123\n",
      "-34.567\n",
      "<class 'bool'> <class 'bool'>\n"
     ]
    }
   ],
   "source": [
    "#Types and type casting\n",
    "print(float(2)) # Converts int to float\n",
    "print(int(23.567)) # Casts float to int, loses information here\n",
    "print(int('12'))\n",
    "# print(int('A')) # Gives an error\n",
    "print(str(123)) # Convert int to string\n",
    "print(str(-34.567)) # Convert float to string\n",
    "\n",
    "type(str(-34.567)) # The type command to check the data type\n",
    "\n",
    "boolValue1 = True # First letter is uppercase\n",
    "boolValue2 = False\n",
    "print(type(boolValue1),type(boolValue2))"
   ]
  },
  {
   "cell_type": "code",
   "execution_count": null,
   "id": "bc0617f9",
   "metadata": {},
   "outputs": [],
   "source": []
  }
 ],
 "metadata": {
  "kernelspec": {
   "display_name": "Python 3 (ipykernel)",
   "language": "python",
   "name": "python3"
  },
  "language_info": {
   "codemirror_mode": {
    "name": "ipython",
    "version": 3
   },
   "file_extension": ".py",
   "mimetype": "text/x-python",
   "name": "python",
   "nbconvert_exporter": "python",
   "pygments_lexer": "ipython3",
   "version": "3.8.12"
  }
 },
 "nbformat": 4,
 "nbformat_minor": 5
}
